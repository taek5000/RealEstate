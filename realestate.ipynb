{
 "cells": [
  {
   "cell_type": "code",
   "execution_count": 1,
   "id": "011026ab",
   "metadata": {},
   "outputs": [],
   "source": [
    "# 모듈 불러오기\n",
    "import PublicDataReader as pdr\n",
    "import requests\n",
    "from bs4 import BeautifulSoup as BS\n",
    "import pandas as pd\n",
    "from datetime import datetime"
   ]
  },
  {
   "cell_type": "markdown",
   "id": "d8f867a8",
   "metadata": {},
   "source": [
    "# 법정동코드"
   ]
  },
  {
   "cell_type": "code",
   "execution_count": 169,
   "id": "9ff62d9f",
   "metadata": {
    "scrolled": true
   },
   "outputs": [
    {
     "name": "stdout",
     "output_type": "stream",
     "text": [
      "출처: 행정기관(행정동) 및 관할구역(법정동) 변경내역(2023. 7. 3. 시행)\n"
     ]
    }
   ],
   "source": [
    "# 법정동 코드 \n",
    "lawd_cd = pdr.code_bdong()\n",
    "\n",
    "# 서울특별시만 추출r\n",
    "import requests\n",
    "from bs4 import BeautifulSoup as BS\n",
    "import pandas as pd\n",
    "from datetime import datetime\n",
    "lawd_cd_seoul = lawd_cd[lawd_cd['시도명'] == '서울특별시']\n",
    "\n",
    "# 서울특별시 내 법정동코드 추출\n",
    "lawd_cd_seoul_list = lawd_cd_seoul['시도코드'].unique()"
   ]
  },
  {
   "cell_type": "code",
   "execution_count": 170,
   "id": "63dc7547",
   "metadata": {},
   "outputs": [
    {
     "data": {
      "text/plain": [
       "Index(['시도코드', '시도명', '시군구코드', '시군구명', '법정동코드', '읍면동명', '동리명', '생성일자', '말소일자'], dtype='object')"
      ]
     },
     "execution_count": 170,
     "metadata": {},
     "output_type": "execute_result"
    }
   ],
   "source": [
    "# 컬럼명 확인하기\n",
    "lawd_cd_seoul.columns"
   ]
  },
  {
   "cell_type": "code",
   "execution_count": 171,
   "id": "fd9dceae",
   "metadata": {
    "scrolled": true
   },
   "outputs": [
    {
     "data": {
      "text/html": [
       "<div>\n",
       "<style scoped>\n",
       "    .dataframe tbody tr th:only-of-type {\n",
       "        vertical-align: middle;\n",
       "    }\n",
       "\n",
       "    .dataframe tbody tr th {\n",
       "        vertical-align: top;\n",
       "    }\n",
       "\n",
       "    .dataframe thead th {\n",
       "        text-align: right;\n",
       "    }\n",
       "</style>\n",
       "<table border=\"1\" class=\"dataframe\">\n",
       "  <thead>\n",
       "    <tr style=\"text-align: right;\">\n",
       "      <th></th>\n",
       "      <th>시도코드</th>\n",
       "      <th>시도명</th>\n",
       "      <th>시군구코드</th>\n",
       "      <th>시군구명</th>\n",
       "      <th>법정동코드</th>\n",
       "      <th>읍면동명</th>\n",
       "      <th>동리명</th>\n",
       "      <th>생성일자</th>\n",
       "      <th>말소일자</th>\n",
       "    </tr>\n",
       "  </thead>\n",
       "  <tbody>\n",
       "    <tr>\n",
       "      <th>0</th>\n",
       "      <td>11</td>\n",
       "      <td>서울특별시</td>\n",
       "      <td>11000</td>\n",
       "      <td></td>\n",
       "      <td>1100000000</td>\n",
       "      <td></td>\n",
       "      <td></td>\n",
       "      <td>19880423</td>\n",
       "      <td></td>\n",
       "    </tr>\n",
       "    <tr>\n",
       "      <th>1</th>\n",
       "      <td>11</td>\n",
       "      <td>서울특별시</td>\n",
       "      <td>11110</td>\n",
       "      <td>종로구</td>\n",
       "      <td>1111000000</td>\n",
       "      <td></td>\n",
       "      <td></td>\n",
       "      <td>19880423</td>\n",
       "      <td></td>\n",
       "    </tr>\n",
       "    <tr>\n",
       "      <th>2</th>\n",
       "      <td>11</td>\n",
       "      <td>서울특별시</td>\n",
       "      <td>11110</td>\n",
       "      <td>종로구</td>\n",
       "      <td>1111010100</td>\n",
       "      <td>청운동</td>\n",
       "      <td></td>\n",
       "      <td>19880423</td>\n",
       "      <td></td>\n",
       "    </tr>\n",
       "    <tr>\n",
       "      <th>3</th>\n",
       "      <td>11</td>\n",
       "      <td>서울특별시</td>\n",
       "      <td>11110</td>\n",
       "      <td>종로구</td>\n",
       "      <td>1111010200</td>\n",
       "      <td>신교동</td>\n",
       "      <td></td>\n",
       "      <td>19880423</td>\n",
       "      <td></td>\n",
       "    </tr>\n",
       "    <tr>\n",
       "      <th>4</th>\n",
       "      <td>11</td>\n",
       "      <td>서울특별시</td>\n",
       "      <td>11110</td>\n",
       "      <td>종로구</td>\n",
       "      <td>1111010300</td>\n",
       "      <td>궁정동</td>\n",
       "      <td></td>\n",
       "      <td>19880423</td>\n",
       "      <td></td>\n",
       "    </tr>\n",
       "  </tbody>\n",
       "</table>\n",
       "</div>"
      ],
      "text/plain": [
       "  시도코드    시도명  시군구코드 시군구명       법정동코드 읍면동명 동리명      생성일자 말소일자\n",
       "0   11  서울특별시  11000       1100000000           19880423     \n",
       "1   11  서울특별시  11110  종로구  1111000000           19880423     \n",
       "2   11  서울특별시  11110  종로구  1111010100  청운동      19880423     \n",
       "3   11  서울특별시  11110  종로구  1111010200  신교동      19880423     \n",
       "4   11  서울특별시  11110  종로구  1111010300  궁정동      19880423     "
      ]
     },
     "execution_count": 171,
     "metadata": {},
     "output_type": "execute_result"
    }
   ],
   "source": [
    "# 상위 N행 살펴보기\n",
    "lawd_cd_seoul.head()"
   ]
  },
  {
   "cell_type": "code",
   "execution_count": 172,
   "id": "e4c9056a",
   "metadata": {},
   "outputs": [
    {
     "data": {
      "text/plain": [
       "(1112, 9)"
      ]
     },
     "execution_count": 172,
     "metadata": {},
     "output_type": "execute_result"
    }
   ],
   "source": [
    "# (행, 열) 크기를 확인하기\n",
    "lawd_cd_seoul.shape"
   ]
  },
  {
   "cell_type": "code",
   "execution_count": 173,
   "id": "7a0d0f12",
   "metadata": {},
   "outputs": [
    {
     "name": "stdout",
     "output_type": "stream",
     "text": [
      "<class 'pandas.core.frame.DataFrame'>\n",
      "Index: 1112 entries, 0 to 1111\n",
      "Data columns (total 9 columns):\n",
      " #   Column  Non-Null Count  Dtype \n",
      "---  ------  --------------  ----- \n",
      " 0   시도코드    1112 non-null   object\n",
      " 1   시도명     1112 non-null   object\n",
      " 2   시군구코드   1112 non-null   object\n",
      " 3   시군구명    1112 non-null   object\n",
      " 4   법정동코드   1112 non-null   object\n",
      " 5   읍면동명    1112 non-null   object\n",
      " 6   동리명     1112 non-null   object\n",
      " 7   생성일자    1112 non-null   object\n",
      " 8   말소일자    1112 non-null   object\n",
      "dtypes: object(9)\n",
      "memory usage: 86.9+ KB\n"
     ]
    }
   ],
   "source": [
    "# 정보 확인하기\n",
    "lawd_cd_seoul.info()"
   ]
  },
  {
   "cell_type": "code",
   "execution_count": 174,
   "id": "0047b72c",
   "metadata": {},
   "outputs": [],
   "source": [
    "# 시군구명, 읍면동명 빈값 제외\n",
    "lawd_cd_seoul = lawd_cd_seoul[lawd_cd_seoul['시군구명'] != '']\n",
    "lawd_cd_seoul = lawd_cd_seoul[lawd_cd_seoul['읍면동명'] != '']"
   ]
  },
  {
   "cell_type": "code",
   "execution_count": 175,
   "id": "bd260473",
   "metadata": {},
   "outputs": [],
   "source": [
    "# 말소일자가 없는 경우만 추출\n",
    "lawd_cd_seoul = lawd_cd_seoul[lawd_cd_seoul['말소일자'] == '']"
   ]
  },
  {
   "cell_type": "code",
   "execution_count": 178,
   "id": "9f9e8c57",
   "metadata": {},
   "outputs": [
    {
     "data": {
      "text/html": [
       "<div>\n",
       "<style scoped>\n",
       "    .dataframe tbody tr th:only-of-type {\n",
       "        vertical-align: middle;\n",
       "    }\n",
       "\n",
       "    .dataframe tbody tr th {\n",
       "        vertical-align: top;\n",
       "    }\n",
       "\n",
       "    .dataframe thead th {\n",
       "        text-align: right;\n",
       "    }\n",
       "</style>\n",
       "<table border=\"1\" class=\"dataframe\">\n",
       "  <thead>\n",
       "    <tr style=\"text-align: right;\">\n",
       "      <th></th>\n",
       "      <th>시도코드</th>\n",
       "      <th>시도명</th>\n",
       "      <th>시군구코드</th>\n",
       "      <th>시군구명</th>\n",
       "      <th>법정동코드</th>\n",
       "      <th>읍면동명</th>\n",
       "      <th>동리명</th>\n",
       "      <th>생성일자</th>\n",
       "      <th>말소일자</th>\n",
       "    </tr>\n",
       "  </thead>\n",
       "  <tbody>\n",
       "    <tr>\n",
       "      <th>2</th>\n",
       "      <td>11</td>\n",
       "      <td>서울특별시</td>\n",
       "      <td>11110</td>\n",
       "      <td>종로구</td>\n",
       "      <td>1111010100</td>\n",
       "      <td>청운동</td>\n",
       "      <td></td>\n",
       "      <td>19880423</td>\n",
       "      <td></td>\n",
       "    </tr>\n",
       "    <tr>\n",
       "      <th>3</th>\n",
       "      <td>11</td>\n",
       "      <td>서울특별시</td>\n",
       "      <td>11110</td>\n",
       "      <td>종로구</td>\n",
       "      <td>1111010200</td>\n",
       "      <td>신교동</td>\n",
       "      <td></td>\n",
       "      <td>19880423</td>\n",
       "      <td></td>\n",
       "    </tr>\n",
       "    <tr>\n",
       "      <th>4</th>\n",
       "      <td>11</td>\n",
       "      <td>서울특별시</td>\n",
       "      <td>11110</td>\n",
       "      <td>종로구</td>\n",
       "      <td>1111010300</td>\n",
       "      <td>궁정동</td>\n",
       "      <td></td>\n",
       "      <td>19880423</td>\n",
       "      <td></td>\n",
       "    </tr>\n",
       "    <tr>\n",
       "      <th>5</th>\n",
       "      <td>11</td>\n",
       "      <td>서울특별시</td>\n",
       "      <td>11110</td>\n",
       "      <td>종로구</td>\n",
       "      <td>1111010400</td>\n",
       "      <td>효자동</td>\n",
       "      <td></td>\n",
       "      <td>19880423</td>\n",
       "      <td></td>\n",
       "    </tr>\n",
       "    <tr>\n",
       "      <th>6</th>\n",
       "      <td>11</td>\n",
       "      <td>서울특별시</td>\n",
       "      <td>11110</td>\n",
       "      <td>종로구</td>\n",
       "      <td>1111010500</td>\n",
       "      <td>창성동</td>\n",
       "      <td></td>\n",
       "      <td>19880423</td>\n",
       "      <td></td>\n",
       "    </tr>\n",
       "  </tbody>\n",
       "</table>\n",
       "</div>"
      ],
      "text/plain": [
       "  시도코드    시도명  시군구코드 시군구명       법정동코드 읍면동명 동리명      생성일자 말소일자\n",
       "2   11  서울특별시  11110  종로구  1111010100  청운동      19880423     \n",
       "3   11  서울특별시  11110  종로구  1111010200  신교동      19880423     \n",
       "4   11  서울특별시  11110  종로구  1111010300  궁정동      19880423     \n",
       "5   11  서울특별시  11110  종로구  1111010400  효자동      19880423     \n",
       "6   11  서울특별시  11110  종로구  1111010500  창성동      19880423     "
      ]
     },
     "execution_count": 178,
     "metadata": {},
     "output_type": "execute_result"
    }
   ],
   "source": [
    "# 상위 N행 살펴보기\n",
    "lawd_cd_seoul.head()"
   ]
  },
  {
   "cell_type": "code",
   "execution_count": 176,
   "id": "ccefb2bb",
   "metadata": {},
   "outputs": [
    {
     "data": {
      "text/plain": [
       "(467, 9)"
      ]
     },
     "execution_count": 176,
     "metadata": {},
     "output_type": "execute_result"
    }
   ],
   "source": [
    "# (행, 열) 크기를 확인하기\n",
    "lawd_cd_seoul.shape"
   ]
  },
  {
   "cell_type": "code",
   "execution_count": 177,
   "id": "ead34f3f",
   "metadata": {},
   "outputs": [
    {
     "name": "stdout",
     "output_type": "stream",
     "text": [
      "<class 'pandas.core.frame.DataFrame'>\n",
      "Index: 467 entries, 2 to 1111\n",
      "Data columns (total 9 columns):\n",
      " #   Column  Non-Null Count  Dtype \n",
      "---  ------  --------------  ----- \n",
      " 0   시도코드    467 non-null    object\n",
      " 1   시도명     467 non-null    object\n",
      " 2   시군구코드   467 non-null    object\n",
      " 3   시군구명    467 non-null    object\n",
      " 4   법정동코드   467 non-null    object\n",
      " 5   읍면동명    467 non-null    object\n",
      " 6   동리명     467 non-null    object\n",
      " 7   생성일자    467 non-null    object\n",
      " 8   말소일자    467 non-null    object\n",
      "dtypes: object(9)\n",
      "memory usage: 36.5+ KB\n"
     ]
    }
   ],
   "source": [
    "# 정보 확인하기\n",
    "lawd_cd_seoul.info()"
   ]
  },
  {
   "cell_type": "code",
   "execution_count": 179,
   "id": "3b76989d",
   "metadata": {},
   "outputs": [
    {
     "data": {
      "text/plain": [
       "25"
      ]
     },
     "execution_count": 179,
     "metadata": {},
     "output_type": "execute_result"
    }
   ],
   "source": [
    "# 시군구명 개수 확인\n",
    "len(lawd_cd_seoul['시군구명'].unique())"
   ]
  },
  {
   "cell_type": "code",
   "execution_count": 180,
   "id": "d223b2a7",
   "metadata": {},
   "outputs": [
    {
     "data": {
      "text/plain": [
       "465"
      ]
     },
     "execution_count": 180,
     "metadata": {},
     "output_type": "execute_result"
    }
   ],
   "source": [
    "# 읍면동명 개수 확인\n",
    "len(lawd_cd_seoul['읍면동명'].unique())"
   ]
  },
  {
   "cell_type": "markdown",
   "id": "f125f41d",
   "metadata": {},
   "source": [
    "# 공동주택 단지 목록 api"
   ]
  },
  {
   "cell_type": "code",
   "execution_count": 132,
   "id": "eadb5332",
   "metadata": {},
   "outputs": [],
   "source": [
    "# url 및 인증키\n",
    "url = 'http://apis.data.go.kr/1613000/AptListService2/getSidoAptList'\n",
    "my_key = 'llq52qzkz50yrlY5SsJxmKw7Zg4caD1W/JKpE3NRt9H0vVFY2estk8VXb6dduPvSbsOpVqyZeuWqAmW5jGJl4A=='"
   ]
  },
  {
   "cell_type": "code",
   "execution_count": 133,
   "id": "e2e6976d",
   "metadata": {},
   "outputs": [],
   "source": [
    "# 시도코드 리스트\n",
    "si_code_list = list(pd.Series(lawd_cd_seoul_list).str[:2].unique())"
   ]
  },
  {
   "cell_type": "code",
   "execution_count": 135,
   "id": "44e4ba18",
   "metadata": {},
   "outputs": [],
   "source": [
    "apartment_list = []\n",
    "pageNo = 1\n",
    "\n",
    "for si_code in si_code_list:\n",
    "    while True:\n",
    "        params = {'ServiceKey' : my_key, 'pageNo' : str(pageNo), 'numOfRows' : '10', 'sidoCode' : si_code}\n",
    "        response = requests.get(url, params = params)\n",
    "        soup = BS(response.text, 'xml')\n",
    "        \n",
    "        if len(soup.find_all('item')) == 0:\n",
    "            break\n",
    "            \n",
    "        for item in soup.find_all('item'):\n",
    "            record = []\n",
    "            record.append(item.find('as1').text)\n",
    "            record.append(item.find('as2').text)\n",
    "            record.append(item.find('as3').text)\n",
    "            record.append(item.find('bjdCode').text)\n",
    "            record.append(item.find('kaptCode').text)\n",
    "            record.append(item.find('kaptName').text)\n",
    "            \n",
    "            apartment_list.append(record)\n",
    "        pageNo += 1\n",
    "        \n",
    "apartment_list = pd.DataFrame(apartment_list, columns = ['시도', '시군구', '읍면동', '법정동코드', '단지코드', '단지명'])"
   ]
  },
  {
   "cell_type": "code",
   "execution_count": 181,
   "id": "3abb588c",
   "metadata": {},
   "outputs": [
    {
     "data": {
      "text/plain": [
       "Index(['시도', '시군구', '읍면동', '법정동코드', '단지코드', '단지명'], dtype='object')"
      ]
     },
     "execution_count": 181,
     "metadata": {},
     "output_type": "execute_result"
    }
   ],
   "source": [
    "# 컬럼명 확인하기\n",
    "apartment_list.columns"
   ]
  },
  {
   "cell_type": "code",
   "execution_count": 137,
   "id": "9350ada1",
   "metadata": {},
   "outputs": [
    {
     "data": {
      "text/html": [
       "<div>\n",
       "<style scoped>\n",
       "    .dataframe tbody tr th:only-of-type {\n",
       "        vertical-align: middle;\n",
       "    }\n",
       "\n",
       "    .dataframe tbody tr th {\n",
       "        vertical-align: top;\n",
       "    }\n",
       "\n",
       "    .dataframe thead th {\n",
       "        text-align: right;\n",
       "    }\n",
       "</style>\n",
       "<table border=\"1\" class=\"dataframe\">\n",
       "  <thead>\n",
       "    <tr style=\"text-align: right;\">\n",
       "      <th></th>\n",
       "      <th>시도</th>\n",
       "      <th>시군구</th>\n",
       "      <th>읍면동</th>\n",
       "      <th>법정동코드</th>\n",
       "      <th>단지코드</th>\n",
       "      <th>단지명</th>\n",
       "    </tr>\n",
       "  </thead>\n",
       "  <tbody>\n",
       "    <tr>\n",
       "      <th>0</th>\n",
       "      <td>서울특별시</td>\n",
       "      <td>금천구</td>\n",
       "      <td>시흥동</td>\n",
       "      <td>1154510300</td>\n",
       "      <td>A15303103</td>\n",
       "      <td>시흥성지</td>\n",
       "    </tr>\n",
       "    <tr>\n",
       "      <th>1</th>\n",
       "      <td>서울특별시</td>\n",
       "      <td>강남구</td>\n",
       "      <td>도곡동</td>\n",
       "      <td>1168011800</td>\n",
       "      <td>A13527007</td>\n",
       "      <td>도곡1차아이파크</td>\n",
       "    </tr>\n",
       "    <tr>\n",
       "      <th>2</th>\n",
       "      <td>서울특별시</td>\n",
       "      <td>양천구</td>\n",
       "      <td>신정동</td>\n",
       "      <td>1147010100</td>\n",
       "      <td>A15886402</td>\n",
       "      <td>신정대성유니드아파트2차</td>\n",
       "    </tr>\n",
       "    <tr>\n",
       "      <th>3</th>\n",
       "      <td>서울특별시</td>\n",
       "      <td>노원구</td>\n",
       "      <td>중계동</td>\n",
       "      <td>1135010600</td>\n",
       "      <td>A13986111</td>\n",
       "      <td>중계라이프신동아청구아파트</td>\n",
       "    </tr>\n",
       "    <tr>\n",
       "      <th>4</th>\n",
       "      <td>서울특별시</td>\n",
       "      <td>노원구</td>\n",
       "      <td>하계동</td>\n",
       "      <td>1135010400</td>\n",
       "      <td>A13923106</td>\n",
       "      <td>하계2차현대아파트</td>\n",
       "    </tr>\n",
       "  </tbody>\n",
       "</table>\n",
       "</div>"
      ],
      "text/plain": [
       "      시도  시군구  읍면동       법정동코드       단지코드            단지명\n",
       "0  서울특별시  금천구  시흥동  1154510300  A15303103           시흥성지\n",
       "1  서울특별시  강남구  도곡동  1168011800  A13527007       도곡1차아이파크\n",
       "2  서울특별시  양천구  신정동  1147010100  A15886402   신정대성유니드아파트2차\n",
       "3  서울특별시  노원구  중계동  1135010600  A13986111  중계라이프신동아청구아파트\n",
       "4  서울특별시  노원구  하계동  1135010400  A13923106      하계2차현대아파트"
      ]
     },
     "execution_count": 137,
     "metadata": {},
     "output_type": "execute_result"
    }
   ],
   "source": [
    "# 상위 N행 살펴보기\n",
    "apartment_list.head()"
   ]
  },
  {
   "cell_type": "code",
   "execution_count": 182,
   "id": "d01aa41e",
   "metadata": {},
   "outputs": [
    {
     "data": {
      "text/plain": [
       "(2988, 6)"
      ]
     },
     "execution_count": 182,
     "metadata": {},
     "output_type": "execute_result"
    }
   ],
   "source": [
    "# (행, 열) 크기를 확인하기\n",
    "apartment_list.shape"
   ]
  },
  {
   "cell_type": "code",
   "execution_count": 183,
   "id": "355c6e51",
   "metadata": {
    "scrolled": true
   },
   "outputs": [
    {
     "name": "stdout",
     "output_type": "stream",
     "text": [
      "<class 'pandas.core.frame.DataFrame'>\n",
      "RangeIndex: 2988 entries, 0 to 2987\n",
      "Data columns (total 6 columns):\n",
      " #   Column  Non-Null Count  Dtype \n",
      "---  ------  --------------  ----- \n",
      " 0   시도      2988 non-null   object\n",
      " 1   시군구     2988 non-null   object\n",
      " 2   읍면동     2988 non-null   object\n",
      " 3   법정동코드   2988 non-null   object\n",
      " 4   단지코드    2988 non-null   object\n",
      " 5   단지명     2988 non-null   object\n",
      "dtypes: object(6)\n",
      "memory usage: 140.2+ KB\n"
     ]
    }
   ],
   "source": [
    "# 정보 확인하기\n",
    "apartment_list.info()"
   ]
  },
  {
   "cell_type": "code",
   "execution_count": 185,
   "id": "16dee22b",
   "metadata": {},
   "outputs": [
    {
     "data": {
      "text/plain": [
       "25"
      ]
     },
     "execution_count": 185,
     "metadata": {},
     "output_type": "execute_result"
    }
   ],
   "source": [
    "# 시군구명 개수 확인\n",
    "len(apartment_list['시군구'].unique())"
   ]
  },
  {
   "cell_type": "code",
   "execution_count": 186,
   "id": "1869a1c6",
   "metadata": {
    "scrolled": false
   },
   "outputs": [
    {
     "data": {
      "text/plain": [
       "276"
      ]
     },
     "execution_count": 186,
     "metadata": {},
     "output_type": "execute_result"
    }
   ],
   "source": [
    "# 시군구명 개수 확인\n",
    "len(apartment_list['읍면동'].unique())"
   ]
  },
  {
   "cell_type": "code",
   "execution_count": 197,
   "id": "74105f97",
   "metadata": {},
   "outputs": [
    {
     "data": {
      "text/plain": [
       "2988"
      ]
     },
     "execution_count": 197,
     "metadata": {},
     "output_type": "execute_result"
    }
   ],
   "source": [
    "# 서울시 내 아파트 단지 개수\n",
    "apartment_list['단지명'].count()"
   ]
  },
  {
   "cell_type": "code",
   "execution_count": 187,
   "id": "2cdd0a76",
   "metadata": {
    "scrolled": true
   },
   "outputs": [
    {
     "data": {
      "text/html": [
       "<div>\n",
       "<style scoped>\n",
       "    .dataframe tbody tr th:only-of-type {\n",
       "        vertical-align: middle;\n",
       "    }\n",
       "\n",
       "    .dataframe tbody tr th {\n",
       "        vertical-align: top;\n",
       "    }\n",
       "\n",
       "    .dataframe thead th {\n",
       "        text-align: right;\n",
       "    }\n",
       "</style>\n",
       "<table border=\"1\" class=\"dataframe\">\n",
       "  <thead>\n",
       "    <tr style=\"text-align: right;\">\n",
       "      <th></th>\n",
       "      <th>시도</th>\n",
       "    </tr>\n",
       "    <tr>\n",
       "      <th>시군구</th>\n",
       "      <th></th>\n",
       "    </tr>\n",
       "  </thead>\n",
       "  <tbody>\n",
       "    <tr>\n",
       "      <th>강남구</th>\n",
       "      <td>213</td>\n",
       "    </tr>\n",
       "    <tr>\n",
       "      <th>강동구</th>\n",
       "      <td>120</td>\n",
       "    </tr>\n",
       "    <tr>\n",
       "      <th>강북구</th>\n",
       "      <td>47</td>\n",
       "    </tr>\n",
       "    <tr>\n",
       "      <th>강서구</th>\n",
       "      <td>186</td>\n",
       "    </tr>\n",
       "    <tr>\n",
       "      <th>관악구</th>\n",
       "      <td>77</td>\n",
       "    </tr>\n",
       "    <tr>\n",
       "      <th>광진구</th>\n",
       "      <td>82</td>\n",
       "    </tr>\n",
       "    <tr>\n",
       "      <th>구로구</th>\n",
       "      <td>150</td>\n",
       "    </tr>\n",
       "    <tr>\n",
       "      <th>금천구</th>\n",
       "      <td>48</td>\n",
       "    </tr>\n",
       "    <tr>\n",
       "      <th>노원구</th>\n",
       "      <td>218</td>\n",
       "    </tr>\n",
       "    <tr>\n",
       "      <th>도봉구</th>\n",
       "      <td>111</td>\n",
       "    </tr>\n",
       "    <tr>\n",
       "      <th>동대문구</th>\n",
       "      <td>108</td>\n",
       "    </tr>\n",
       "    <tr>\n",
       "      <th>동작구</th>\n",
       "      <td>123</td>\n",
       "    </tr>\n",
       "    <tr>\n",
       "      <th>마포구</th>\n",
       "      <td>129</td>\n",
       "    </tr>\n",
       "    <tr>\n",
       "      <th>서대문구</th>\n",
       "      <td>89</td>\n",
       "    </tr>\n",
       "    <tr>\n",
       "      <th>서초구</th>\n",
       "      <td>178</td>\n",
       "    </tr>\n",
       "    <tr>\n",
       "      <th>성동구</th>\n",
       "      <td>114</td>\n",
       "    </tr>\n",
       "    <tr>\n",
       "      <th>성북구</th>\n",
       "      <td>134</td>\n",
       "    </tr>\n",
       "    <tr>\n",
       "      <th>송파구</th>\n",
       "      <td>156</td>\n",
       "    </tr>\n",
       "    <tr>\n",
       "      <th>양천구</th>\n",
       "      <td>133</td>\n",
       "    </tr>\n",
       "    <tr>\n",
       "      <th>영등포구</th>\n",
       "      <td>165</td>\n",
       "    </tr>\n",
       "    <tr>\n",
       "      <th>용산구</th>\n",
       "      <td>79</td>\n",
       "    </tr>\n",
       "    <tr>\n",
       "      <th>은평구</th>\n",
       "      <td>138</td>\n",
       "    </tr>\n",
       "    <tr>\n",
       "      <th>종로구</th>\n",
       "      <td>31</td>\n",
       "    </tr>\n",
       "    <tr>\n",
       "      <th>중구</th>\n",
       "      <td>46</td>\n",
       "    </tr>\n",
       "    <tr>\n",
       "      <th>중랑구</th>\n",
       "      <td>113</td>\n",
       "    </tr>\n",
       "  </tbody>\n",
       "</table>\n",
       "</div>"
      ],
      "text/plain": [
       "       시도\n",
       "시군구      \n",
       "강남구   213\n",
       "강동구   120\n",
       "강북구    47\n",
       "강서구   186\n",
       "관악구    77\n",
       "광진구    82\n",
       "구로구   150\n",
       "금천구    48\n",
       "노원구   218\n",
       "도봉구   111\n",
       "동대문구  108\n",
       "동작구   123\n",
       "마포구   129\n",
       "서대문구   89\n",
       "서초구   178\n",
       "성동구   114\n",
       "성북구   134\n",
       "송파구   156\n",
       "양천구   133\n",
       "영등포구  165\n",
       "용산구    79\n",
       "은평구   138\n",
       "종로구    31\n",
       "중구     46\n",
       "중랑구   113"
      ]
     },
     "execution_count": 187,
     "metadata": {},
     "output_type": "execute_result"
    }
   ],
   "source": [
    "# 시군구별 아파트 단지 개수\n",
    "apartment_list.groupby('시군구').count()[['시도']]"
   ]
  },
  {
   "cell_type": "code",
   "execution_count": 194,
   "id": "11c23fa7",
   "metadata": {
    "scrolled": false
   },
   "outputs": [
    {
     "data": {
      "text/html": [
       "<div>\n",
       "<style scoped>\n",
       "    .dataframe tbody tr th:only-of-type {\n",
       "        vertical-align: middle;\n",
       "    }\n",
       "\n",
       "    .dataframe tbody tr th {\n",
       "        vertical-align: top;\n",
       "    }\n",
       "\n",
       "    .dataframe thead th {\n",
       "        text-align: right;\n",
       "    }\n",
       "</style>\n",
       "<table border=\"1\" class=\"dataframe\">\n",
       "  <thead>\n",
       "    <tr style=\"text-align: right;\">\n",
       "      <th></th>\n",
       "      <th></th>\n",
       "      <th>시도</th>\n",
       "    </tr>\n",
       "    <tr>\n",
       "      <th>시군구</th>\n",
       "      <th>읍면동</th>\n",
       "      <th></th>\n",
       "    </tr>\n",
       "  </thead>\n",
       "  <tbody>\n",
       "    <tr>\n",
       "      <th rowspan=\"5\" valign=\"top\">강남구</th>\n",
       "      <th>개포동</th>\n",
       "      <td>19</td>\n",
       "    </tr>\n",
       "    <tr>\n",
       "      <th>논현동</th>\n",
       "      <td>15</td>\n",
       "    </tr>\n",
       "    <tr>\n",
       "      <th>대치동</th>\n",
       "      <td>25</td>\n",
       "    </tr>\n",
       "    <tr>\n",
       "      <th>도곡동</th>\n",
       "      <td>29</td>\n",
       "    </tr>\n",
       "    <tr>\n",
       "      <th>삼성동</th>\n",
       "      <td>23</td>\n",
       "    </tr>\n",
       "    <tr>\n",
       "      <th>...</th>\n",
       "      <th>...</th>\n",
       "      <td>...</td>\n",
       "    </tr>\n",
       "    <tr>\n",
       "      <th rowspan=\"5\" valign=\"top\">중랑구</th>\n",
       "      <th>면목동</th>\n",
       "      <td>34</td>\n",
       "    </tr>\n",
       "    <tr>\n",
       "      <th>묵동</th>\n",
       "      <td>20</td>\n",
       "    </tr>\n",
       "    <tr>\n",
       "      <th>상봉동</th>\n",
       "      <td>11</td>\n",
       "    </tr>\n",
       "    <tr>\n",
       "      <th>신내동</th>\n",
       "      <td>29</td>\n",
       "    </tr>\n",
       "    <tr>\n",
       "      <th>중화동</th>\n",
       "      <td>5</td>\n",
       "    </tr>\n",
       "  </tbody>\n",
       "</table>\n",
       "<p>278 rows × 1 columns</p>\n",
       "</div>"
      ],
      "text/plain": [
       "         시도\n",
       "시군구 읍면동    \n",
       "강남구 개포동  19\n",
       "    논현동  15\n",
       "    대치동  25\n",
       "    도곡동  29\n",
       "    삼성동  23\n",
       "...      ..\n",
       "중랑구 면목동  34\n",
       "    묵동   20\n",
       "    상봉동  11\n",
       "    신내동  29\n",
       "    중화동   5\n",
       "\n",
       "[278 rows x 1 columns]"
      ]
     },
     "execution_count": 194,
     "metadata": {},
     "output_type": "execute_result"
    }
   ],
   "source": [
    "# 시군구, 읍면동별 아파트 단지 개수\n",
    "apartment_list.groupby(['시군구', '읍면동']).count()[['시도']]"
   ]
  },
  {
   "cell_type": "code",
   "execution_count": null,
   "id": "90248de7",
   "metadata": {},
   "outputs": [],
   "source": [
    "# csv 파일 내려받기\n",
    "apartment_list.to_csv('서울시 아파트 리스트.csv', index = False)"
   ]
  },
  {
   "cell_type": "markdown",
   "id": "aa150481",
   "metadata": {},
   "source": [
    "# 공동주택 기본 정보 api"
   ]
  },
  {
   "cell_type": "code",
   "execution_count": null,
   "id": "ff0ab1fc",
   "metadata": {},
   "outputs": [],
   "source": [
    "# 국토교통부_공동주택 기본 정보제공 서비스\n",
    "# url 및 인증키\n",
    "url = 'http://apis.data.go.kr/1613000/AptBasisInfoService1/getAphusBassInfo'\n",
    "my_key = 'llq52qzkz50yrlY5SsJxmKw7Zg4caD1W/JKpE3NRt9H0vVFY2estk8VXb6dduPvSbsOpVqyZeuWqAmW5jGJl4A=='"
   ]
  },
  {
   "cell_type": "code",
   "execution_count": null,
   "id": "f0282d41",
   "metadata": {},
   "outputs": [],
   "source": [
    "kaptCode_list = list(apartment_list['단지코드'])"
   ]
  },
  {
   "cell_type": "code",
   "execution_count": null,
   "id": "05181788",
   "metadata": {},
   "outputs": [],
   "source": [
    "apartmentBase_list = []\n",
    "\n",
    "for kaptCode in kaptCode_list:\n",
    "    params = {'ServiceKey' : my_key, 'kaptCode' : kaptCode}\n",
    "    response = requests.get(url, params = params)\n",
    "    soup = BS(response.text, 'xml')\n",
    "        \n",
    "    for item in soup.find_all('item'):\n",
    "        record = []\n",
    "        record.append(item.find('kaptCode').text)\n",
    "        record.append(item.find('kaptName').text)\n",
    "        record.append(item.find('kaptAddr').text)\n",
    "        record.append(item.find('kaptTarea').text)\n",
    "        record.append(item.find('kaptdaCnt').text)\n",
    "        record.append(item.find('kaptBcompany').text)\n",
    "        record.append(item.find('kaptAcompany').text)\n",
    "        record.append(item.find('kaptMarea').text)\n",
    "        record.append(item.find('kaptMparea_60').text)\n",
    "        record.append(item.find('kaptMparea_85').text)\n",
    "        record.append(item.find('kaptMparea_135').text)\n",
    "        record.append(item.find('kaptMparea_136').text)\n",
    "        record.append(item.find('privArea').text)\n",
    "        record.append(item.find('bjdCode').text)\n",
    "        apartmentBase_list.append(record)\n",
    "        \n",
    "apartmentBase_list = pd.DataFrame(apartmentBase_list, columns = ['단지코드', '단지명', '법정동주소', '건축물대장상 연면적', '세대수', '시공사', '시행사', '관리비부과면적', '전용면적별  세대현황(60)', '전용면적별 세대현황(85)', '전용면적별 세대현황(135)', '전용면적별 세대현황(136)', '대장 전용면적합계', '법정동코드'])"
   ]
  },
  {
   "cell_type": "markdown",
   "id": "c7ba4ab7",
   "metadata": {},
   "source": [
    "# 아파트매매 실거래 상세"
   ]
  },
  {
   "cell_type": "code",
   "execution_count": 3,
   "id": "7b21d31f",
   "metadata": {},
   "outputs": [],
   "source": [
    "# url 및 인증키\n",
    "url = 'http://openapi.molit.go.kr/OpenAPI_ToolInstallPackage/service/rest/RTMSOBJSvc/getRTMSDataSvcAptTradeDev'\n",
    "my_key = 'llq52qzkz50yrlY5SsJxmKw7Zg4caD1W/JKpE3NRt9H0vVFY2estk8VXb6dduPvSbsOpVqyZeuWqAmW5jGJl4A=='"
   ]
  },
  {
   "cell_type": "code",
   "execution_count": 4,
   "id": "fb7ab397",
   "metadata": {},
   "outputs": [],
   "source": [
    "# 연월 구하기\n",
    "now = datetime.now()\n",
    "YMD = now.strftime('%Y%m')"
   ]
  },
  {
   "cell_type": "code",
   "execution_count": 5,
   "id": "d37cabc3",
   "metadata": {},
   "outputs": [],
   "source": [
    "YMD = '202308'"
   ]
  },
  {
   "cell_type": "code",
   "execution_count": 6,
   "id": "7818b8c0",
   "metadata": {},
   "outputs": [],
   "source": [
    "data = []\n",
    "pageNo = 1\n",
    "\n",
    "for lawd_cd in lawd_cd_seoul_list:\n",
    "    while True:\n",
    "        params = {'ServiceKey' : my_key, 'pageNo' : str(pageNo), 'numOfRows' : '10', 'LAWD_CD' : lawd_cd, 'DEAL_YMD' : YMD}\n",
    "        response = requests.get(url, params = params)\n",
    "        soup = BS(response.text, 'xml')\n",
    "        \n",
    "        if len(soup.find_all('item')) == 0:\n",
    "            break\n",
    "            \n",
    "        for item in soup.find_all('item'):\n",
    "            record = []\n",
    "            record.append(item.find('거래금액').text)\n",
    "            record.append(item.find('건축년도').text)\n",
    "            record.append(item.find('년').text)\n",
    "            record.append(item.find('법정동').text)\n",
    "            record.append(item.find('법정동시군구코드').text)\n",
    "            record.append(item.find('아파트').text)\n",
    "            record.append(item.find('월').text)\n",
    "            record.append(item.find('일').text)\n",
    "            record.append(item.find('전용면적').text)\n",
    "            record.append(item.find('층').text)\n",
    "            record.append(item.find('해제여부').text)\n",
    "            record.append(item.find('거래유형').text)\n",
    "            record.append(item.find('등기일자').text)\n",
    "            data.append(record)\n",
    "        pageNo += 1"
   ]
  },
  {
   "cell_type": "code",
   "execution_count": 7,
   "id": "7be10741",
   "metadata": {},
   "outputs": [],
   "source": [
    "data = pd.DataFrame(data, columns = ['거래금액', '건축년도', '년', '법정동', '법정동시군구코드', '아파트', '월', '일', '전용면적', '층', '해제여부', '거래유형', '등기일자'])"
   ]
  },
  {
   "cell_type": "code",
   "execution_count": 8,
   "id": "4517c85c",
   "metadata": {},
   "outputs": [],
   "source": [
    "data['거래금액'] = data['거래금액'].str.lstrip().str.replace(',','').astype(int)\n",
    "data[['년', '월', '일']] = data[['년','월', '일']].astype(int)\n",
    "data['전용면적'] = data['전용면적'].astype(float)"
   ]
  },
  {
   "cell_type": "code",
   "execution_count": 9,
   "id": "7f273673",
   "metadata": {},
   "outputs": [],
   "source": [
    "data['평수'] = round(data['전용면적'] / 3.305,0)"
   ]
  },
  {
   "cell_type": "code",
   "execution_count": 10,
   "id": "e1da6e7c",
   "metadata": {},
   "outputs": [],
   "source": [
    "data['평당가'] = round(data['거래금액'] / data['평수'],0)"
   ]
  },
  {
   "cell_type": "code",
   "execution_count": 11,
   "id": "4a88916f",
   "metadata": {},
   "outputs": [],
   "source": [
    "# 데이터 제외\n",
    "\n",
    "# 1. 해제된 실거래가 정보 제외\n",
    "data = data[data['해제여부'] != 'O']\n",
    "\n",
    "# 2. 등기일자가 등록되지 않은 실거래가 정보 제외\n",
    "data = data[data['등기일자'] != ' ']"
   ]
  },
  {
   "cell_type": "code",
   "execution_count": 30,
   "id": "b7e52a25",
   "metadata": {
    "scrolled": true
   },
   "outputs": [
    {
     "data": {
      "text/html": [
       "<div>\n",
       "<style scoped>\n",
       "    .dataframe tbody tr th:only-of-type {\n",
       "        vertical-align: middle;\n",
       "    }\n",
       "\n",
       "    .dataframe tbody tr th {\n",
       "        vertical-align: top;\n",
       "    }\n",
       "\n",
       "    .dataframe thead th {\n",
       "        text-align: right;\n",
       "    }\n",
       "</style>\n",
       "<table border=\"1\" class=\"dataframe\">\n",
       "  <thead>\n",
       "    <tr style=\"text-align: right;\">\n",
       "      <th></th>\n",
       "      <th>거래금액</th>\n",
       "      <th>건축년도</th>\n",
       "      <th>년</th>\n",
       "      <th>법정동</th>\n",
       "      <th>법정동시군구코드</th>\n",
       "      <th>아파트</th>\n",
       "      <th>월</th>\n",
       "      <th>일</th>\n",
       "      <th>전용면적</th>\n",
       "      <th>층</th>\n",
       "      <th>해제여부</th>\n",
       "      <th>거래유형</th>\n",
       "      <th>등기일자</th>\n",
       "      <th>평수</th>\n",
       "      <th>평당가</th>\n",
       "    </tr>\n",
       "  </thead>\n",
       "  <tbody>\n",
       "    <tr>\n",
       "      <th>7</th>\n",
       "      <td>14500</td>\n",
       "      <td>2014</td>\n",
       "      <td>2023</td>\n",
       "      <td>숭인동</td>\n",
       "      <td>11110</td>\n",
       "      <td>삼전솔하임4차</td>\n",
       "      <td>8</td>\n",
       "      <td>12</td>\n",
       "      <td>15.0900</td>\n",
       "      <td>17</td>\n",
       "      <td></td>\n",
       "      <td>중개거래</td>\n",
       "      <td>23.08.14</td>\n",
       "      <td>5.0</td>\n",
       "      <td>2900.0</td>\n",
       "    </tr>\n",
       "    <tr>\n",
       "      <th>12</th>\n",
       "      <td>185000</td>\n",
       "      <td>2017</td>\n",
       "      <td>2023</td>\n",
       "      <td>평동</td>\n",
       "      <td>11110</td>\n",
       "      <td>경희궁자이(3단지)</td>\n",
       "      <td>8</td>\n",
       "      <td>16</td>\n",
       "      <td>84.8359</td>\n",
       "      <td>4</td>\n",
       "      <td></td>\n",
       "      <td>중개거래</td>\n",
       "      <td>23.08.29</td>\n",
       "      <td>26.0</td>\n",
       "      <td>7115.0</td>\n",
       "    </tr>\n",
       "    <tr>\n",
       "      <th>32</th>\n",
       "      <td>18000</td>\n",
       "      <td>2016</td>\n",
       "      <td>2023</td>\n",
       "      <td>신당동</td>\n",
       "      <td>11140</td>\n",
       "      <td>신당역솔하임</td>\n",
       "      <td>8</td>\n",
       "      <td>29</td>\n",
       "      <td>14.0800</td>\n",
       "      <td>17</td>\n",
       "      <td></td>\n",
       "      <td>중개거래</td>\n",
       "      <td>23.08.29</td>\n",
       "      <td>4.0</td>\n",
       "      <td>4500.0</td>\n",
       "    </tr>\n",
       "    <tr>\n",
       "      <th>34</th>\n",
       "      <td>161000</td>\n",
       "      <td>2014</td>\n",
       "      <td>2023</td>\n",
       "      <td>흥인동</td>\n",
       "      <td>11140</td>\n",
       "      <td>청계천두산위브더제니스</td>\n",
       "      <td>8</td>\n",
       "      <td>7</td>\n",
       "      <td>147.3212</td>\n",
       "      <td>29</td>\n",
       "      <td></td>\n",
       "      <td>중개거래</td>\n",
       "      <td>23.08.14</td>\n",
       "      <td>45.0</td>\n",
       "      <td>3578.0</td>\n",
       "    </tr>\n",
       "    <tr>\n",
       "      <th>43</th>\n",
       "      <td>149800</td>\n",
       "      <td>2017</td>\n",
       "      <td>2023</td>\n",
       "      <td>만리동2가</td>\n",
       "      <td>11140</td>\n",
       "      <td>서울역센트럴자이</td>\n",
       "      <td>8</td>\n",
       "      <td>25</td>\n",
       "      <td>84.9720</td>\n",
       "      <td>7</td>\n",
       "      <td></td>\n",
       "      <td>중개거래</td>\n",
       "      <td>23.08.31</td>\n",
       "      <td>26.0</td>\n",
       "      <td>5762.0</td>\n",
       "    </tr>\n",
       "  </tbody>\n",
       "</table>\n",
       "</div>"
      ],
      "text/plain": [
       "      거래금액  건축년도     년     법정동 법정동시군구코드          아파트  월   일      전용면적   층  \\\n",
       "7    14500  2014  2023     숭인동    11110      삼전솔하임4차  8  12   15.0900  17   \n",
       "12  185000  2017  2023      평동    11110   경희궁자이(3단지)  8  16   84.8359   4   \n",
       "32   18000  2016  2023     신당동    11140       신당역솔하임  8  29   14.0800  17   \n",
       "34  161000  2014  2023     흥인동    11140  청계천두산위브더제니스  8   7  147.3212  29   \n",
       "43  149800  2017  2023   만리동2가    11140     서울역센트럴자이  8  25   84.9720   7   \n",
       "\n",
       "   해제여부  거래유형      등기일자    평수     평당가  \n",
       "7        중개거래  23.08.14   5.0  2900.0  \n",
       "12       중개거래  23.08.29  26.0  7115.0  \n",
       "32       중개거래  23.08.29   4.0  4500.0  \n",
       "34       중개거래  23.08.14  45.0  3578.0  \n",
       "43       중개거래  23.08.31  26.0  5762.0  "
      ]
     },
     "execution_count": 30,
     "metadata": {},
     "output_type": "execute_result"
    }
   ],
   "source": [
    "data.head()"
   ]
  }
 ],
 "metadata": {
  "kernelspec": {
   "display_name": "Python 3 (ipykernel)",
   "language": "python",
   "name": "python3"
  },
  "language_info": {
   "codemirror_mode": {
    "name": "ipython",
    "version": 3
   },
   "file_extension": ".py",
   "mimetype": "text/x-python",
   "name": "python",
   "nbconvert_exporter": "python",
   "pygments_lexer": "ipython3",
   "version": "3.11.4"
  }
 },
 "nbformat": 4,
 "nbformat_minor": 5
}
