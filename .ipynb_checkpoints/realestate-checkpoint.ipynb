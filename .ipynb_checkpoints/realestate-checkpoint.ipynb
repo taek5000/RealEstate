{
 "cells": [
  {
   "cell_type": "markdown",
   "id": "f5f86750",
   "metadata": {},
   "source": [
    "# 여러 달 불러오는 코드 샘플\n",
    "data = []\n",
    "year = 2020\n",
    "month = 1\n",
    "\n",
    "while True:\n",
    "    print(year, month)\n",
    "    if (year == 2023) and (month == 7):\n",
    "        break\n",
    "        \n",
    "    YMD = str(year) + str(month).zfill(2)\n",
    "    pageNo = 1\n",
    "    while True:\n",
    "        params = {'ServiceKey' : my_key, 'pageNo' : str(pageNo), 'numOfRows' : '10', 'LAWD_CD' : '11440', 'DEAL_YMD' : YMD}\n",
    "        response = requests.get(url, params = params)\n",
    "        soup = BS(response.text, 'xml')\n",
    "        if len(soup.find_all('item')) == 0:\n",
    "            break\n",
    "            \n",
    "        for item in soup.find_all('item'):\n",
    "            record = []\n",
    "            record.append(item.find('거래금액').text)\n",
    "            record.append(item.find('아파트').text)\n",
    "            record.append(item.find('년').text)\n",
    "            record.append(item.find('월').text)\n",
    "            record.append(item.find('전용면적').text)\n",
    "        \n",
    "            data.append(record)\n",
    "        pageNo += 1\n",
    "    \n",
    "    if month == 12:\n",
    "        year += 1\n",
    "        month = 1\n",
    "    \n",
    "    else:\n",
    "        month += 1"
   ]
  },
  {
   "cell_type": "code",
   "execution_count": 1,
   "id": "011026ab",
   "metadata": {},
   "outputs": [],
   "source": [
    "# 모듈 불러오기\n",
    "import PublicDataReader as pdr\n",
    "import requests\n",
    "from bs4 import BeautifulSoup as BS\n",
    "import pandas as pd\n",
    "from datetime import datetime"
   ]
  },
  {
   "cell_type": "code",
   "execution_count": 2,
   "id": "58fab870",
   "metadata": {
    "scrolled": false
   },
   "outputs": [
    {
     "name": "stdout",
     "output_type": "stream",
     "text": [
      "출처: 행정기관(행정동) 및 관할구역(법정동) 변경내역(2023. 7. 3. 시행)\n"
     ]
    }
   ],
   "source": [
    "# 법정동 코드 \n",
    "lawd_cd = pdr.code_bdong()\n",
    "\n",
    "# 서울특별시만 추출r\n",
    "import requests\n",
    "from bs4 import BeautifulSoup as BS\n",
    "import pandas as pd\n",
    "from datetime import datetime\n",
    "lawd_cd_seoul = lawd_cd[lawd_cd['시도명'] == '서울특별시']\n",
    "\n",
    "# 서울특별시 내 법정동코드 추출\n",
    "lawd_cd_seoul_list = lawd_cd_seoul['법정동코드'].str[:5].unique()"
   ]
  },
  {
   "cell_type": "code",
   "execution_count": 3,
   "id": "7b21d31f",
   "metadata": {},
   "outputs": [],
   "source": [
    "# url 및 인증키\n",
    "url = 'http://openapi.molit.go.kr/OpenAPI_ToolInstallPackage/service/rest/RTMSOBJSvc/getRTMSDataSvcAptTradeDev'\n",
    "my_key = 'llq52qzkz50yrlY5SsJxmKw7Zg4caD1W/JKpE3NRt9H0vVFY2estk8VXb6dduPvSbsOpVqyZeuWqAmW5jGJl4A=='"
   ]
  },
  {
   "cell_type": "code",
   "execution_count": 4,
   "id": "fb7ab397",
   "metadata": {},
   "outputs": [],
   "source": [
    "# 연월 구하기\n",
    "now = datetime.now()\n",
    "YMD = now.strftime('%Y%m')"
   ]
  },
  {
   "cell_type": "code",
   "execution_count": 5,
   "id": "d37cabc3",
   "metadata": {},
   "outputs": [],
   "source": [
    "YMD = '202308'"
   ]
  },
  {
   "cell_type": "code",
   "execution_count": 6,
   "id": "7818b8c0",
   "metadata": {},
   "outputs": [],
   "source": [
    "data = []\n",
    "pageNo = 1\n",
    "\n",
    "for lawd_cd in lawd_cd_seoul_list:\n",
    "    while True:\n",
    "        params = {'ServiceKey' : my_key, 'pageNo' : str(pageNo), 'numOfRows' : '10', 'LAWD_CD' : lawd_cd, 'DEAL_YMD' : YMD}\n",
    "        response = requests.get(url, params = params)\n",
    "        soup = BS(response.text, 'xml')\n",
    "        \n",
    "        if len(soup.find_all('item')) == 0:\n",
    "            break\n",
    "            \n",
    "        for item in soup.find_all('item'):\n",
    "            record = []\n",
    "            record.append(item.find('거래금액').text)\n",
    "            record.append(item.find('건축년도').text)\n",
    "            record.append(item.find('년').text)\n",
    "            record.append(item.find('법정동').text)\n",
    "            record.append(item.find('아파트').text)\n",
    "            record.append(item.find('월').text)\n",
    "            record.append(item.find('일').text)\n",
    "            record.append(item.find('전용면적').text)\n",
    "            record.append(item.find('층').text)\n",
    "            record.append(item.find('해제여부').text)\n",
    "            record.append(item.find('거래유형').text)\n",
    "            record.append(item.find('등기일자').text)\n",
    "            data.append(record)\n",
    "        pageNo += 1"
   ]
  },
  {
   "cell_type": "code",
   "execution_count": 7,
   "id": "7be10741",
   "metadata": {},
   "outputs": [],
   "source": [
    "data = pd.DataFrame(data, columns = ['거래금액', '건축년도', '년', '법정동', '아파트', '월', '일', '전용면적', '층', '해제여부', '거래유형', '등기일자'])"
   ]
  },
  {
   "cell_type": "code",
   "execution_count": 8,
   "id": "4517c85c",
   "metadata": {},
   "outputs": [],
   "source": [
    "data['거래금액'] = data['거래금액'].str.lstrip().str.replace(',','').astype(int)\n",
    "data[['년', '월', '일']] = data[['년','월', '일']].astype(int)\n",
    "data['전용면적'] = data['전용면적'].astype(float)"
   ]
  },
  {
   "cell_type": "code",
   "execution_count": 9,
   "id": "7f273673",
   "metadata": {},
   "outputs": [],
   "source": [
    "data['평수'] = round(data['전용면적'] / 3.305,0)"
   ]
  },
  {
   "cell_type": "code",
   "execution_count": 10,
   "id": "e1da6e7c",
   "metadata": {},
   "outputs": [],
   "source": [
    "data['평당가'] = round(data['거래금액'] / data['평수'],0)"
   ]
  },
  {
   "cell_type": "code",
   "execution_count": 11,
   "id": "4a88916f",
   "metadata": {},
   "outputs": [],
   "source": [
    "# 데이터 제외\n",
    "\n",
    "# 1. 해제된 실거래가 정보 제외\n",
    "data = data[data['해제여부'] != 'O']\n",
    "\n",
    "# 2. 등기일자가 등록되지 않은 실거래가 정보 제외\n",
    "data = data[data['등기일자'] != ' ']"
   ]
  },
  {
   "cell_type": "code",
   "execution_count": 12,
   "id": "a4aae3ad",
   "metadata": {
    "scrolled": true
   },
   "outputs": [
    {
     "data": {
      "text/html": [
       "<div>\n",
       "<style scoped>\n",
       "    .dataframe tbody tr th:only-of-type {\n",
       "        vertical-align: middle;\n",
       "    }\n",
       "\n",
       "    .dataframe tbody tr th {\n",
       "        vertical-align: top;\n",
       "    }\n",
       "\n",
       "    .dataframe thead th {\n",
       "        text-align: right;\n",
       "    }\n",
       "</style>\n",
       "<table border=\"1\" class=\"dataframe\">\n",
       "  <thead>\n",
       "    <tr style=\"text-align: right;\">\n",
       "      <th></th>\n",
       "      <th>거래금액</th>\n",
       "      <th>건축년도</th>\n",
       "      <th>년</th>\n",
       "      <th>법정동</th>\n",
       "      <th>아파트</th>\n",
       "      <th>월</th>\n",
       "      <th>일</th>\n",
       "      <th>전용면적</th>\n",
       "      <th>층</th>\n",
       "      <th>해제여부</th>\n",
       "      <th>거래유형</th>\n",
       "      <th>등기일자</th>\n",
       "      <th>평수</th>\n",
       "      <th>평당가</th>\n",
       "    </tr>\n",
       "  </thead>\n",
       "  <tbody>\n",
       "    <tr>\n",
       "      <th>7</th>\n",
       "      <td>14500</td>\n",
       "      <td>2014</td>\n",
       "      <td>2023</td>\n",
       "      <td>숭인동</td>\n",
       "      <td>삼전솔하임4차</td>\n",
       "      <td>8</td>\n",
       "      <td>12</td>\n",
       "      <td>15.0900</td>\n",
       "      <td>17</td>\n",
       "      <td></td>\n",
       "      <td>중개거래</td>\n",
       "      <td>23.08.14</td>\n",
       "      <td>5.0</td>\n",
       "      <td>2900.0</td>\n",
       "    </tr>\n",
       "    <tr>\n",
       "      <th>12</th>\n",
       "      <td>185000</td>\n",
       "      <td>2017</td>\n",
       "      <td>2023</td>\n",
       "      <td>평동</td>\n",
       "      <td>경희궁자이(3단지)</td>\n",
       "      <td>8</td>\n",
       "      <td>16</td>\n",
       "      <td>84.8359</td>\n",
       "      <td>4</td>\n",
       "      <td></td>\n",
       "      <td>중개거래</td>\n",
       "      <td>23.08.29</td>\n",
       "      <td>26.0</td>\n",
       "      <td>7115.0</td>\n",
       "    </tr>\n",
       "    <tr>\n",
       "      <th>32</th>\n",
       "      <td>18000</td>\n",
       "      <td>2016</td>\n",
       "      <td>2023</td>\n",
       "      <td>신당동</td>\n",
       "      <td>신당역솔하임</td>\n",
       "      <td>8</td>\n",
       "      <td>29</td>\n",
       "      <td>14.0800</td>\n",
       "      <td>17</td>\n",
       "      <td></td>\n",
       "      <td>중개거래</td>\n",
       "      <td>23.08.29</td>\n",
       "      <td>4.0</td>\n",
       "      <td>4500.0</td>\n",
       "    </tr>\n",
       "    <tr>\n",
       "      <th>34</th>\n",
       "      <td>161000</td>\n",
       "      <td>2014</td>\n",
       "      <td>2023</td>\n",
       "      <td>흥인동</td>\n",
       "      <td>청계천두산위브더제니스</td>\n",
       "      <td>8</td>\n",
       "      <td>7</td>\n",
       "      <td>147.3212</td>\n",
       "      <td>29</td>\n",
       "      <td></td>\n",
       "      <td>중개거래</td>\n",
       "      <td>23.08.14</td>\n",
       "      <td>45.0</td>\n",
       "      <td>3578.0</td>\n",
       "    </tr>\n",
       "    <tr>\n",
       "      <th>43</th>\n",
       "      <td>149800</td>\n",
       "      <td>2017</td>\n",
       "      <td>2023</td>\n",
       "      <td>만리동2가</td>\n",
       "      <td>서울역센트럴자이</td>\n",
       "      <td>8</td>\n",
       "      <td>25</td>\n",
       "      <td>84.9720</td>\n",
       "      <td>7</td>\n",
       "      <td></td>\n",
       "      <td>중개거래</td>\n",
       "      <td>23.08.31</td>\n",
       "      <td>26.0</td>\n",
       "      <td>5762.0</td>\n",
       "    </tr>\n",
       "  </tbody>\n",
       "</table>\n",
       "</div>"
      ],
      "text/plain": [
       "      거래금액  건축년도     년     법정동          아파트  월   일      전용면적   층 해제여부  거래유형  \\\n",
       "7    14500  2014  2023     숭인동      삼전솔하임4차  8  12   15.0900  17       중개거래   \n",
       "12  185000  2017  2023      평동   경희궁자이(3단지)  8  16   84.8359   4       중개거래   \n",
       "32   18000  2016  2023     신당동       신당역솔하임  8  29   14.0800  17       중개거래   \n",
       "34  161000  2014  2023     흥인동  청계천두산위브더제니스  8   7  147.3212  29       중개거래   \n",
       "43  149800  2017  2023   만리동2가     서울역센트럴자이  8  25   84.9720   7       중개거래   \n",
       "\n",
       "        등기일자    평수     평당가  \n",
       "7   23.08.14   5.0  2900.0  \n",
       "12  23.08.29  26.0  7115.0  \n",
       "32  23.08.29   4.0  4500.0  \n",
       "34  23.08.14  45.0  3578.0  \n",
       "43  23.08.31  26.0  5762.0  "
      ]
     },
     "execution_count": 12,
     "metadata": {},
     "output_type": "execute_result"
    }
   ],
   "source": [
    "data.head()"
   ]
  }
 ],
 "metadata": {
  "kernelspec": {
   "display_name": "Python 3 (ipykernel)",
   "language": "python",
   "name": "python3"
  },
  "language_info": {
   "codemirror_mode": {
    "name": "ipython",
    "version": 3
   },
   "file_extension": ".py",
   "mimetype": "text/x-python",
   "name": "python",
   "nbconvert_exporter": "python",
   "pygments_lexer": "ipython3",
   "version": "3.11.4"
  }
 },
 "nbformat": 4,
 "nbformat_minor": 5
}
